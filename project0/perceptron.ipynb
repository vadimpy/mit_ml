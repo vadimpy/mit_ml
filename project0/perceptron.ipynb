{
 "cells": [
  {
   "cell_type": "code",
   "execution_count": 155,
   "id": "billion-resolution",
   "metadata": {},
   "outputs": [],
   "source": [
    "import numpy as np\n",
    "import matplotlib.pyplot as plt"
   ]
  },
  {
   "cell_type": "code",
   "execution_count": 168,
   "id": "representative-device",
   "metadata": {},
   "outputs": [],
   "source": [
    "x = np.array([[-1, -1],[1, 0],[-1, 10]])\n",
    "y = np.array([1, -1, 1])"
   ]
  },
  {
   "cell_type": "code",
   "execution_count": 172,
   "id": "average-great",
   "metadata": {},
   "outputs": [],
   "source": [
    "def perceptron_algorithm(x, y):\n",
    "    finished = False\n",
    "    n = len(x)\n",
    "    theta = np.zeros(2)\n",
    "    #theta_0 = y[1].copy()\n",
    "    trace = []\n",
    "    while not finished:\n",
    "        finished = True\n",
    "        for i in [1, 2, 0]:\n",
    "            #if y[i] * (np.dot(theta,x[i]) + theta_0) <= 0:\n",
    "            if y[i] * np.dot(theta,x[i]) <= 0:\n",
    "                theta += y[i] * x[i]\n",
    "                #theta_0 += y[i]\n",
    "                #print(theta_0, theta)\n",
    "                trace.append(list(theta))\n",
    "                finished = False\n",
    "    return trace"
   ]
  },
  {
   "cell_type": "code",
   "execution_count": 173,
   "id": "attempted-partnership",
   "metadata": {
    "scrolled": true
   },
   "outputs": [
    {
     "name": "stdout",
     "output_type": "stream",
     "text": [
      "[[-1.0, 0.0]]\n",
      "1\n",
      "[-1.0, 0.0]\n"
     ]
    }
   ],
   "source": [
    "trace = perceptron_algorithm(x,y)\n",
    "theta = trace[-1]\n",
    "print(trace)\n",
    "print(len(trace))\n",
    "print(theta)"
   ]
  },
  {
   "cell_type": "code",
   "execution_count": 174,
   "id": "alternate-entrepreneur",
   "metadata": {
    "scrolled": true
   },
   "outputs": [
    {
     "name": "stdout",
     "output_type": "stream",
     "text": [
      "1.0\n",
      "1.0\n",
      "1.0\n"
     ]
    }
   ],
   "source": [
    "for i in range(3):\n",
    "    print(y[i] * np.dot(theta,x[i]))"
   ]
  },
  {
   "cell_type": "code",
   "execution_count": 191,
   "id": "featured-badge",
   "metadata": {},
   "outputs": [],
   "source": [
    "X = np.array(x).T"
   ]
  },
  {
   "cell_type": "code",
   "execution_count": 199,
   "id": "dangerous-mainstream",
   "metadata": {},
   "outputs": [
    {
     "data": {
      "image/png": "[encoded data removed]",
      "text/plain": [
       "<Figure size 432x288 with 1 Axes>"
      ]
     },
     "metadata": {
      "needs_background": "light"
     },
     "output_type": "display_data"
    }
   ],
   "source": [
    "plt.scatter(X[0], X[1], c=y)\n",
    "plt.plot([-3, 1], [-3, 2])\n",
    "plt.show()"
   ]
  },
  {
   "cell_type": "code",
   "execution_count": null,
   "id": "greater-moral",
   "metadata": {},
   "outputs": [],
   "source": []
  }
 ],
 "metadata": {
  "kernelspec": {
   "display_name": "Python 3",
   "language": "python",
   "name": "python3"
  },
  "language_info": {
   "codemirror_mode": {
    "name": "ipython",
    "version": 3
   },
   "file_extension": ".py",
   "mimetype": "text/x-python",
   "name": "python",
   "nbconvert_exporter": "python",
   "pygments_lexer": "ipython3",
   "version": "3.8.5"
  }
 },
 "nbformat": 4,
 "nbformat_minor": 5
}
